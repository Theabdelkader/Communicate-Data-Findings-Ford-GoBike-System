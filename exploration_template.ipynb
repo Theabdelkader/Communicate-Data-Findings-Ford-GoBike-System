{
 "cells": [
  {
   "cell_type": "markdown",
   "metadata": {},
   "source": [
    "# Communicate-Data-Findings-Ford-GoBike-System\n",
    "## by Mohamed Abdelkader\n",
    "\n",
    "## Preliminary Wrangling\n",
    "\n",
    "> This data set includes information about individual rides made\n",
    "in a bike-sharing system covering the greater San Francisco\n",
    "Bay area.."
   ]
  },
  {
   "cell_type": "code",
   "execution_count": 2,
   "metadata": {},
   "outputs": [],
   "source": [
    "# import all packages and set plots to be embedded inline\n",
    "import numpy as np\n",
    "import pandas as pd\n",
    "import matplotlib.pyplot as plt\n",
    "import seaborn as sb\n",
    "\n",
    "%matplotlib inline"
   ]
  },
  {
   "cell_type": "markdown",
   "metadata": {},
   "source": [
    "> Load in your dataset and describe its properties through the questions below.\n",
    "Try and motivate your exploration goals through this section."
   ]
  },
  {
   "cell_type": "code",
   "execution_count": 9,
   "metadata": {},
   "outputs": [],
   "source": [
    "df = pd.read_csv(\"201902-fordgobike-tripdata.csv\")"
   ]
  },
  {
   "cell_type": "code",
   "execution_count": 12,
   "metadata": {},
   "outputs": [
    {
     "data": {
      "text/html": [
       "<div>\n",
       "<style scoped>\n",
       "    .dataframe tbody tr th:only-of-type {\n",
       "        vertical-align: middle;\n",
       "    }\n",
       "\n",
       "    .dataframe tbody tr th {\n",
       "        vertical-align: top;\n",
       "    }\n",
       "\n",
       "    .dataframe thead th {\n",
       "        text-align: right;\n",
       "    }\n",
       "</style>\n",
       "<table border=\"1\" class=\"dataframe\">\n",
       "  <thead>\n",
       "    <tr style=\"text-align: right;\">\n",
       "      <th></th>\n",
       "      <th>duration_sec</th>\n",
       "      <th>start_time</th>\n",
       "      <th>end_time</th>\n",
       "      <th>start_station_id</th>\n",
       "      <th>start_station_name</th>\n",
       "      <th>start_station_latitude</th>\n",
       "      <th>start_station_longitude</th>\n",
       "      <th>end_station_id</th>\n",
       "      <th>end_station_name</th>\n",
       "      <th>end_station_latitude</th>\n",
       "      <th>end_station_longitude</th>\n",
       "      <th>bike_id</th>\n",
       "      <th>user_type</th>\n",
       "      <th>member_birth_year</th>\n",
       "      <th>member_gender</th>\n",
       "      <th>bike_share_for_all_trip</th>\n",
       "    </tr>\n",
       "  </thead>\n",
       "  <tbody>\n",
       "    <tr>\n",
       "      <th>0</th>\n",
       "      <td>52185</td>\n",
       "      <td>2019-02-28 17:32:10.1450</td>\n",
       "      <td>2019-03-01 08:01:55.9750</td>\n",
       "      <td>21.0</td>\n",
       "      <td>Montgomery St BART Station (Market St at 2nd St)</td>\n",
       "      <td>37.789625</td>\n",
       "      <td>-122.400811</td>\n",
       "      <td>13.0</td>\n",
       "      <td>Commercial St at Montgomery St</td>\n",
       "      <td>37.794231</td>\n",
       "      <td>-122.402923</td>\n",
       "      <td>4902</td>\n",
       "      <td>Customer</td>\n",
       "      <td>1984.0</td>\n",
       "      <td>Male</td>\n",
       "      <td>No</td>\n",
       "    </tr>\n",
       "    <tr>\n",
       "      <th>1</th>\n",
       "      <td>42521</td>\n",
       "      <td>2019-02-28 18:53:21.7890</td>\n",
       "      <td>2019-03-01 06:42:03.0560</td>\n",
       "      <td>23.0</td>\n",
       "      <td>The Embarcadero at Steuart St</td>\n",
       "      <td>37.791464</td>\n",
       "      <td>-122.391034</td>\n",
       "      <td>81.0</td>\n",
       "      <td>Berry St at 4th St</td>\n",
       "      <td>37.775880</td>\n",
       "      <td>-122.393170</td>\n",
       "      <td>2535</td>\n",
       "      <td>Customer</td>\n",
       "      <td>NaN</td>\n",
       "      <td>NaN</td>\n",
       "      <td>No</td>\n",
       "    </tr>\n",
       "    <tr>\n",
       "      <th>2</th>\n",
       "      <td>61854</td>\n",
       "      <td>2019-02-28 12:13:13.2180</td>\n",
       "      <td>2019-03-01 05:24:08.1460</td>\n",
       "      <td>86.0</td>\n",
       "      <td>Market St at Dolores St</td>\n",
       "      <td>37.769305</td>\n",
       "      <td>-122.426826</td>\n",
       "      <td>3.0</td>\n",
       "      <td>Powell St BART Station (Market St at 4th St)</td>\n",
       "      <td>37.786375</td>\n",
       "      <td>-122.404904</td>\n",
       "      <td>5905</td>\n",
       "      <td>Customer</td>\n",
       "      <td>1972.0</td>\n",
       "      <td>Male</td>\n",
       "      <td>No</td>\n",
       "    </tr>\n",
       "    <tr>\n",
       "      <th>3</th>\n",
       "      <td>36490</td>\n",
       "      <td>2019-02-28 17:54:26.0100</td>\n",
       "      <td>2019-03-01 04:02:36.8420</td>\n",
       "      <td>375.0</td>\n",
       "      <td>Grove St at Masonic Ave</td>\n",
       "      <td>37.774836</td>\n",
       "      <td>-122.446546</td>\n",
       "      <td>70.0</td>\n",
       "      <td>Central Ave at Fell St</td>\n",
       "      <td>37.773311</td>\n",
       "      <td>-122.444293</td>\n",
       "      <td>6638</td>\n",
       "      <td>Subscriber</td>\n",
       "      <td>1989.0</td>\n",
       "      <td>Other</td>\n",
       "      <td>No</td>\n",
       "    </tr>\n",
       "    <tr>\n",
       "      <th>4</th>\n",
       "      <td>1585</td>\n",
       "      <td>2019-02-28 23:54:18.5490</td>\n",
       "      <td>2019-03-01 00:20:44.0740</td>\n",
       "      <td>7.0</td>\n",
       "      <td>Frank H Ogawa Plaza</td>\n",
       "      <td>37.804562</td>\n",
       "      <td>-122.271738</td>\n",
       "      <td>222.0</td>\n",
       "      <td>10th Ave at E 15th St</td>\n",
       "      <td>37.792714</td>\n",
       "      <td>-122.248780</td>\n",
       "      <td>4898</td>\n",
       "      <td>Subscriber</td>\n",
       "      <td>1974.0</td>\n",
       "      <td>Male</td>\n",
       "      <td>Yes</td>\n",
       "    </tr>\n",
       "    <tr>\n",
       "      <th>5</th>\n",
       "      <td>1793</td>\n",
       "      <td>2019-02-28 23:49:58.6320</td>\n",
       "      <td>2019-03-01 00:19:51.7600</td>\n",
       "      <td>93.0</td>\n",
       "      <td>4th St at Mission Bay Blvd S</td>\n",
       "      <td>37.770407</td>\n",
       "      <td>-122.391198</td>\n",
       "      <td>323.0</td>\n",
       "      <td>Broadway at Kearny</td>\n",
       "      <td>37.798014</td>\n",
       "      <td>-122.405950</td>\n",
       "      <td>5200</td>\n",
       "      <td>Subscriber</td>\n",
       "      <td>1959.0</td>\n",
       "      <td>Male</td>\n",
       "      <td>No</td>\n",
       "    </tr>\n",
       "    <tr>\n",
       "      <th>6</th>\n",
       "      <td>1147</td>\n",
       "      <td>2019-02-28 23:55:35.1040</td>\n",
       "      <td>2019-03-01 00:14:42.5880</td>\n",
       "      <td>300.0</td>\n",
       "      <td>Palm St at Willow St</td>\n",
       "      <td>37.317298</td>\n",
       "      <td>-121.884995</td>\n",
       "      <td>312.0</td>\n",
       "      <td>San Jose Diridon Station</td>\n",
       "      <td>37.329732</td>\n",
       "      <td>-121.901782</td>\n",
       "      <td>3803</td>\n",
       "      <td>Subscriber</td>\n",
       "      <td>1983.0</td>\n",
       "      <td>Female</td>\n",
       "      <td>No</td>\n",
       "    </tr>\n",
       "    <tr>\n",
       "      <th>7</th>\n",
       "      <td>1615</td>\n",
       "      <td>2019-02-28 23:41:06.7660</td>\n",
       "      <td>2019-03-01 00:08:02.7560</td>\n",
       "      <td>10.0</td>\n",
       "      <td>Washington St at Kearny St</td>\n",
       "      <td>37.795393</td>\n",
       "      <td>-122.404770</td>\n",
       "      <td>127.0</td>\n",
       "      <td>Valencia St at 21st St</td>\n",
       "      <td>37.756708</td>\n",
       "      <td>-122.421025</td>\n",
       "      <td>6329</td>\n",
       "      <td>Subscriber</td>\n",
       "      <td>1989.0</td>\n",
       "      <td>Male</td>\n",
       "      <td>No</td>\n",
       "    </tr>\n",
       "  </tbody>\n",
       "</table>\n",
       "</div>"
      ],
      "text/plain": [
       "   duration_sec                start_time                  end_time  \\\n",
       "0         52185  2019-02-28 17:32:10.1450  2019-03-01 08:01:55.9750   \n",
       "1         42521  2019-02-28 18:53:21.7890  2019-03-01 06:42:03.0560   \n",
       "2         61854  2019-02-28 12:13:13.2180  2019-03-01 05:24:08.1460   \n",
       "3         36490  2019-02-28 17:54:26.0100  2019-03-01 04:02:36.8420   \n",
       "4          1585  2019-02-28 23:54:18.5490  2019-03-01 00:20:44.0740   \n",
       "5          1793  2019-02-28 23:49:58.6320  2019-03-01 00:19:51.7600   \n",
       "6          1147  2019-02-28 23:55:35.1040  2019-03-01 00:14:42.5880   \n",
       "7          1615  2019-02-28 23:41:06.7660  2019-03-01 00:08:02.7560   \n",
       "\n",
       "   start_station_id                                start_station_name  \\\n",
       "0              21.0  Montgomery St BART Station (Market St at 2nd St)   \n",
       "1              23.0                     The Embarcadero at Steuart St   \n",
       "2              86.0                           Market St at Dolores St   \n",
       "3             375.0                           Grove St at Masonic Ave   \n",
       "4               7.0                               Frank H Ogawa Plaza   \n",
       "5              93.0                      4th St at Mission Bay Blvd S   \n",
       "6             300.0                              Palm St at Willow St   \n",
       "7              10.0                        Washington St at Kearny St   \n",
       "\n",
       "   start_station_latitude  start_station_longitude  end_station_id  \\\n",
       "0               37.789625              -122.400811            13.0   \n",
       "1               37.791464              -122.391034            81.0   \n",
       "2               37.769305              -122.426826             3.0   \n",
       "3               37.774836              -122.446546            70.0   \n",
       "4               37.804562              -122.271738           222.0   \n",
       "5               37.770407              -122.391198           323.0   \n",
       "6               37.317298              -121.884995           312.0   \n",
       "7               37.795393              -122.404770           127.0   \n",
       "\n",
       "                               end_station_name  end_station_latitude  \\\n",
       "0                Commercial St at Montgomery St             37.794231   \n",
       "1                            Berry St at 4th St             37.775880   \n",
       "2  Powell St BART Station (Market St at 4th St)             37.786375   \n",
       "3                        Central Ave at Fell St             37.773311   \n",
       "4                         10th Ave at E 15th St             37.792714   \n",
       "5                            Broadway at Kearny             37.798014   \n",
       "6                      San Jose Diridon Station             37.329732   \n",
       "7                        Valencia St at 21st St             37.756708   \n",
       "\n",
       "   end_station_longitude  bike_id   user_type  member_birth_year  \\\n",
       "0            -122.402923     4902    Customer             1984.0   \n",
       "1            -122.393170     2535    Customer                NaN   \n",
       "2            -122.404904     5905    Customer             1972.0   \n",
       "3            -122.444293     6638  Subscriber             1989.0   \n",
       "4            -122.248780     4898  Subscriber             1974.0   \n",
       "5            -122.405950     5200  Subscriber             1959.0   \n",
       "6            -121.901782     3803  Subscriber             1983.0   \n",
       "7            -122.421025     6329  Subscriber             1989.0   \n",
       "\n",
       "  member_gender bike_share_for_all_trip  \n",
       "0          Male                      No  \n",
       "1           NaN                      No  \n",
       "2          Male                      No  \n",
       "3         Other                      No  \n",
       "4          Male                     Yes  \n",
       "5          Male                      No  \n",
       "6        Female                      No  \n",
       "7          Male                      No  "
      ]
     },
     "execution_count": 12,
     "metadata": {},
     "output_type": "execute_result"
    }
   ],
   "source": [
    "df.head(8)"
   ]
  },
  {
   "cell_type": "markdown",
   "metadata": {},
   "source": [
    "- where latitude is a geographic coordinate that specifies the north–south position of a point on the Earth's surface.\n",
    "- where Longitude, is a geographic coordinate that specifies the east–west position of a point on the Earth's surface .\n",
    "- A customer has purchased one product from you. They may never purchase another. A subscriber has purchased an ongoing commitment for a product with you. \n",
    "- the data contains a column called \"bike_share_for_all_trip\", which tracks members who are enrolled in the Bike Share for All program for low-income residents."
   ]
  },
  {
   "cell_type": "code",
   "execution_count": 17,
   "metadata": {},
   "outputs": [
    {
     "name": "stdout",
     "output_type": "stream",
     "text": [
      "<class 'pandas.core.frame.DataFrame'>\n",
      "RangeIndex: 183412 entries, 0 to 183411\n",
      "Data columns (total 16 columns):\n",
      " #   Column                   Non-Null Count   Dtype  \n",
      "---  ------                   --------------   -----  \n",
      " 0   duration_sec             183412 non-null  int64  \n",
      " 1   start_time               183412 non-null  object \n",
      " 2   end_time                 183412 non-null  object \n",
      " 3   start_station_id         183215 non-null  float64\n",
      " 4   start_station_name       183215 non-null  object \n",
      " 5   start_station_latitude   183412 non-null  float64\n",
      " 6   start_station_longitude  183412 non-null  float64\n",
      " 7   end_station_id           183215 non-null  float64\n",
      " 8   end_station_name         183215 non-null  object \n",
      " 9   end_station_latitude     183412 non-null  float64\n",
      " 10  end_station_longitude    183412 non-null  float64\n",
      " 11  bike_id                  183412 non-null  int64  \n",
      " 12  user_type                183412 non-null  object \n",
      " 13  member_birth_year        175147 non-null  float64\n",
      " 14  member_gender            175147 non-null  object \n",
      " 15  bike_share_for_all_trip  183412 non-null  object \n",
      "dtypes: float64(7), int64(2), object(7)\n",
      "memory usage: 22.4+ MB\n"
     ]
    }
   ],
   "source": [
    "df.info()"
   ]
  },
  {
   "cell_type": "markdown",
   "metadata": {},
   "source": [
    "#### there are Empty cells .. and features data types not appropriate for all variables."
   ]
  },
  {
   "cell_type": "code",
   "execution_count": 24,
   "metadata": {
    "scrolled": true
   },
   "outputs": [
    {
     "data": {
      "text/plain": [
       "duration_sec                  0\n",
       "start_time                    0\n",
       "end_time                      0\n",
       "start_station_id            197\n",
       "start_station_name          197\n",
       "start_station_latitude        0\n",
       "start_station_longitude       0\n",
       "end_station_id              197\n",
       "end_station_name            197\n",
       "end_station_latitude          0\n",
       "end_station_longitude         0\n",
       "bike_id                       0\n",
       "user_type                     0\n",
       "member_birth_year          8265\n",
       "member_gender              8265\n",
       "bike_share_for_all_trip       0\n",
       "dtype: int64"
      ]
     },
     "execution_count": 24,
     "metadata": {},
     "output_type": "execute_result"
    }
   ],
   "source": [
    "df.isnull().sum()"
   ]
  },
  {
   "cell_type": "markdown",
   "metadata": {},
   "source": [
    "##### start_station_id  start_station_name  end_station_id  end_station_name has  197 nulls  \n",
    "##### member_birth_year  member_gender  has  8265 nulls"
   ]
  },
  {
   "cell_type": "code",
   "execution_count": 29,
   "metadata": {},
   "outputs": [
    {
     "data": {
      "text/plain": [
       "(183412, 16)"
      ]
     },
     "execution_count": 29,
     "metadata": {},
     "output_type": "execute_result"
    }
   ],
   "source": [
    "df.shape"
   ]
  },
  {
   "cell_type": "code",
   "execution_count": 30,
   "metadata": {},
   "outputs": [
    {
     "data": {
      "text/plain": [
       "duration_sec                 int64\n",
       "start_time                  object\n",
       "end_time                    object\n",
       "start_station_id           float64\n",
       "start_station_name          object\n",
       "start_station_latitude     float64\n",
       "start_station_longitude    float64\n",
       "end_station_id             float64\n",
       "end_station_name            object\n",
       "end_station_latitude       float64\n",
       "end_station_longitude      float64\n",
       "bike_id                      int64\n",
       "user_type                   object\n",
       "member_birth_year          float64\n",
       "member_gender               object\n",
       "bike_share_for_all_trip     object\n",
       "dtype: object"
      ]
     },
     "execution_count": 30,
     "metadata": {},
     "output_type": "execute_result"
    }
   ],
   "source": [
    "df.dtypes"
   ]
  },
  {
   "cell_type": "markdown",
   "metadata": {},
   "source": [
    "### What is the structure of your dataset?\n",
    "\n",
    "> 16 features of 183412 records .<br> \n",
    "<br> \n",
    "duration_sec                 int64<br> \n",
    "start_time                  object<br> \n",
    "end_time                    object<br> \n",
    "start_station_id           float64<br> \n",
    "start_station_name          object<br> \n",
    "start_station_latitude     float64<br> \n",
    "start_station_longitude    float64<br> \n",
    "end_station_id             float64<br> \n",
    "end_station_name            object<br> \n",
    "end_station_latitude       float64<br> \n",
    "end_station_longitude      float64<br> \n",
    "bike_id                      int64<br> \n",
    "user_type                   object<br> \n",
    "member_birth_year          float64<br> \n",
    "member_gender               object<br> \n",
    "bike_share_for_all_trip     object<br> \n",
    "<br> \n",
    "where int64 float64 are Numeric variables and object is \n",
    "\n",
    "### What is/are the main feature(s) of interest in your dataset?\n",
    "\n",
    "> member_birth_year, member_gender, user_type, duration_sec, start_station_id, end_station_id\n",
    "\n",
    "### What features in the dataset do you think will help support your investigation into your feature(s) of interest?\n",
    "\n",
    "> Your answer here!"
   ]
  },
  {
   "cell_type": "markdown",
   "metadata": {},
   "source": [
    "## Univariate Exploration\n",
    "\n",
    "> In this section, investigate distributions of individual variables. If\n",
    "you see unusual points or outliers, take a deeper look to clean things up\n",
    "and prepare yourself to look at relationships between variables."
   ]
  },
  {
   "cell_type": "code",
   "execution_count": null,
   "metadata": {},
   "outputs": [],
   "source": []
  },
  {
   "cell_type": "markdown",
   "metadata": {},
   "source": [
    "> Make sure that, after every plot or related series of plots, that you\n",
    "include a Markdown cell with comments about what you observed, and what\n",
    "you plan on investigating next."
   ]
  },
  {
   "cell_type": "code",
   "execution_count": null,
   "metadata": {},
   "outputs": [],
   "source": []
  },
  {
   "cell_type": "markdown",
   "metadata": {},
   "source": [
    "### Discuss the distribution(s) of your variable(s) of interest. Were there any unusual points? Did you need to perform any transformations?\n",
    "\n",
    "> Your answer here!\n",
    "\n",
    "### Of the features you investigated, were there any unusual distributions? Did you perform any operations on the data to tidy, adjust, or change the form of the data? If so, why did you do this?\n",
    "\n",
    "> Your answer here!"
   ]
  },
  {
   "cell_type": "markdown",
   "metadata": {},
   "source": [
    "## Bivariate Exploration\n",
    "\n",
    "> In this section, investigate relationships between pairs of variables in your\n",
    "data. Make sure the variables that you cover here have been introduced in some\n",
    "fashion in the previous section (univariate exploration)."
   ]
  },
  {
   "cell_type": "code",
   "execution_count": null,
   "metadata": {},
   "outputs": [],
   "source": []
  },
  {
   "cell_type": "markdown",
   "metadata": {},
   "source": [
    "### Talk about some of the relationships you observed in this part of the investigation. How did the feature(s) of interest vary with other features in the dataset?\n",
    "\n",
    "> Your answer here!\n",
    "\n",
    "### Did you observe any interesting relationships between the other features (not the main feature(s) of interest)?\n",
    "\n",
    "> Your answer here!"
   ]
  },
  {
   "cell_type": "markdown",
   "metadata": {},
   "source": [
    "## Multivariate Exploration\n",
    "\n",
    "> Create plots of three or more variables to investigate your data even\n",
    "further. Make sure that your investigations are justified, and follow from\n",
    "your work in the previous sections."
   ]
  },
  {
   "cell_type": "code",
   "execution_count": null,
   "metadata": {},
   "outputs": [],
   "source": []
  },
  {
   "cell_type": "markdown",
   "metadata": {},
   "source": [
    "### Talk about some of the relationships you observed in this part of the investigation. Were there features that strengthened each other in terms of looking at your feature(s) of interest?\n",
    "\n",
    "> Your answer here!\n",
    "\n",
    "### Were there any interesting or surprising interactions between features?\n",
    "\n",
    "> Your answer here!"
   ]
  },
  {
   "cell_type": "markdown",
   "metadata": {},
   "source": [
    "> At the end of your report, make sure that you export the notebook as an\n",
    "html file from the `File > Download as... > HTML` menu. Make sure you keep\n",
    "track of where the exported file goes, so you can put it in the same folder\n",
    "as this notebook for project submission. Also, make sure you remove all of\n",
    "the quote-formatted guide notes like this one before you finish your report!"
   ]
  },
  {
   "cell_type": "code",
   "execution_count": null,
   "metadata": {},
   "outputs": [],
   "source": []
  }
 ],
 "metadata": {
  "kernelspec": {
   "display_name": "Python 3",
   "language": "python",
   "name": "python3"
  },
  "language_info": {
   "codemirror_mode": {
    "name": "ipython",
    "version": 3
   },
   "file_extension": ".py",
   "mimetype": "text/x-python",
   "name": "python",
   "nbconvert_exporter": "python",
   "pygments_lexer": "ipython3",
   "version": "3.8.5"
  }
 },
 "nbformat": 4,
 "nbformat_minor": 2
}
